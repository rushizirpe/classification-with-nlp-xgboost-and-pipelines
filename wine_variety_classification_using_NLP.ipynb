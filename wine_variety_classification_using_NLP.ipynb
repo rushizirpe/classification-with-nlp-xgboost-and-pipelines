{
  "nbformat": 4,
  "nbformat_minor": 0,
  "metadata": {
    "colab": {
      "provenance": []
    },
    "kernelspec": {
      "name": "python3",
      "display_name": "Python 3"
    },
    "language_info": {
      "name": "python"
    }
  },
  "cells": [
    {
      "metadata": {
        "_uuid": "f4a0efbdf4c6615b9957cef02d7b6bbfd6c2337b",
        "id": "i2VgQ6tm3h0T"
      },
      "cell_type": "markdown",
      "source": [
        "# Grape variety classification based on wine description\n",
        "In this assignment, We will build a classifier for predicting the grape variety based on the description of wines. We go through all the preprocessing steps, show the elements of the classifier model and finally present its performance. Having 35 different grape type, the model manages to predict their variety with 68% accuracy. *\n",
        "\n",
        "## Introduction\n",
        "\n",
        "Here we will work with 35 different grapes (or collection of grapes) that has more than 200 samples in the data base. Relying on our data cleaning, preprocessing, text vectorization and an XGBoost classifier we manage to achieve 68% accuracy in telling what grape was used to produce the wine under inspection. \n",
        "\n",
        "We will start by importing the data then we **drop the features we are not interested in, remove duplicates and NAs, remove accents from text and make everything lower case**. We will process the target feature (grape variety) too. **One grape type may appear under different names**. One reason for that is that in different country they have different names. We try to bring them under the same name. Furthermore, we **introduce colours of the wine as a new input feature**, since during blind tasting, the expert can actually look at the colour of the wine. \n",
        "\n",
        "For the classification model we define **stop words, a class for lemma tokenization, a tf-idf vectorizer and an XGBoost classifier**. We use **pipelines** to put all these things together.  \n",
        "\n",
        "Finally we show the implementation of the model, present **hyperparameter tuning and cross validation testing**. At the end we will show a little discussion about the effect of having **inbalanced number of target features** and options to deal with it. \n",
        "\n",
        "## Table of contents\n",
        "1. [Importing data](#ch1)\n",
        "2. [Data preprocessing](#ch2)\n",
        "\n",
        " 2.1 [Selecting features](#ch2.1) \n",
        "\n",
        " 2.2 [Removing duplicates, NAs and text formatting](#ch2.2) \n",
        "\n",
        " 2.3 [Target feature processing](#ch2.3) \n",
        "\n",
        " 2.4 [Introduction of new features](#ch2.4) \n",
        "\n",
        "3. [Building the classification model](#ch3)\n",
        "\n",
        " 3.1 [Stop words](#ch3.1)\n",
        " \n",
        " 3.2 [POS tagging and Lemma tokenization](#ch3.2)\n",
        " \n",
        " 3.3 [Text vectorizer](#ch3.3)\n",
        " \n",
        " 3.4 [XGBoost classifier](#ch3.4)\n",
        " \n",
        " 3.5 [Pipeline with helper functions](#ch3.5)\n",
        "\n",
        "4. [Hyperparameter tuning](#ch4)\n",
        "\n",
        "5. [Notes on imbalanced target features](#ch5)\n",
        "\n",
        "6. [Conclusion](#ch6)\n",
        "\n",
        "<a id=\"ch1\"></a>\n",
        "## 1. Importing data"
      ]
    },
    {
      "metadata": {
        "_uuid": "bba184f96813cb3c9cf9e76f5641fdddb8c30ee7",
        "id": "4XK9vjmz3h0Y"
      },
      "cell_type": "markdown",
      "source": [
        "First thing to do, we will import useful packages and load the wine database. We will rely on many python libraries maninly pandas and numpy for processing dataframes, seaborn and matplotlib for plotting, sklearn, imblearn and xgboost for machine learning techniques and nltk for natural language processing tools. "
      ]
    },
    {
      "metadata": {
        "_uuid": "8f2839f25d086af736a60e9eeb907d3b93b6e0e5",
        "_cell_guid": "b1076dfc-b9ad-4769-8c92-a6c4dae69d19",
        "trusted": true,
        "id": "SdI1-zVV3h0Y",
        "colab": {
          "base_uri": "https://localhost:8080/"
        },
        "outputId": "1f31e1f3-bb13-4c0f-b00e-db4d0f392e92"
      },
      "cell_type": "code",
      "source": [
        "# importing packages\n",
        "import os\n",
        "import warnings  \n",
        "warnings.filterwarnings('ignore')\n",
        "import pandas as pd\n",
        "import re\n",
        "import numpy as np\n",
        "import seaborn as sns\n",
        "import matplotlib.pyplot as plt\n",
        "\n",
        "#helper functions\n",
        "from helper import *\n",
        "from utils import *\n",
        "%matplotlib inline\n",
        "\n",
        "# sklearn packages\n",
        "from sklearn import metrics\n",
        "from sklearn.feature_extraction.text import TfidfVectorizer, CountVectorizer\n",
        "from sklearn.model_selection import train_test_split, GridSearchCV, cross_val_score, StratifiedKFold\n",
        "from sklearn.pipeline import Pipeline, FeatureUnion\n",
        "from sklearn.preprocessing import FunctionTransformer, StandardScaler\n",
        "from sklearn.base import BaseEstimator, TransformerMixin\n",
        "from sklearn.neighbors import KNeighborsClassifier\n",
        "from sklearn.tree import DecisionTreeClassifier\n",
        "from sklearn.ensemble import RandomForestClassifier, AdaBoostClassifier\n",
        "from sklearn.naive_bayes import MultinomialNB\n",
        "from sklearn.dummy import DummyClassifier\n",
        "from xgboost import XGBClassifier\n",
        "\n",
        "# nltk packages\n",
        "import nltk\n",
        "from nltk.corpus import wordnet\n",
        "from nltk import word_tokenize\n",
        "from nltk.stem import WordNetLemmatizer \n",
        "from nltk.corpus import stopwords\n",
        "nltk.download('punkt')\n",
        "nltk.download('stopwords')\n",
        "nltk.download('averaged_perceptron_tagger')\n",
        "nltk.download('wordnet')\n",
        "\n",
        "from string import punctuation\n",
        "import unidecode"
      ],
      "execution_count": null,
      "outputs": [
        {
          "output_type": "stream",
          "name": "stderr",
          "text": [
            "[nltk_data] Downloading package punkt to /root/nltk_data...\n",
            "[nltk_data]   Package punkt is already up-to-date!\n",
            "[nltk_data] Downloading package stopwords to /root/nltk_data...\n",
            "[nltk_data]   Package stopwords is already up-to-date!\n",
            "[nltk_data] Downloading package averaged_perceptron_tagger to\n",
            "[nltk_data]     /root/nltk_data...\n",
            "[nltk_data]   Package averaged_perceptron_tagger is already up-to-\n",
            "[nltk_data]       date!\n",
            "[nltk_data] Downloading package wordnet to /root/nltk_data...\n",
            "[nltk_data]   Package wordnet is already up-to-date!\n"
          ]
        }
      ]
    },
    {
      "metadata": {
        "_uuid": "ba153983f7593d567da9929958f356420990316d",
        "id": "9I8pC1La3h0a"
      },
      "cell_type": "markdown",
      "source": [
        "Let us look at the content of the wine database."
      ]
    },
    {
      "metadata": {
        "_cell_guid": "79c7e3d0-c299-4dcb-8224-4455121ee9b0",
        "_uuid": "d629ff2d2480ee46fbb7e2d37f6b5fab8052498a",
        "trusted": true,
        "scrolled": true,
        "id": "MJaETASy3h0b",
        "colab": {
          "base_uri": "https://localhost:8080/",
          "height": 354
        },
        "outputId": "88d20416-163f-4015-846b-e61861bfb2cd"
      },
      "cell_type": "code",
      "source": [
        "data = pd.read_csv('../content/OSX_DS_assignment.csv')\n",
        "data.head(5)"
      ],
      "execution_count": null,
      "outputs": [
        {
          "output_type": "execute_result",
          "data": {
            "text/plain": [
              "   Unnamed: 0 country                                        description  \\\n",
              "0           0      US  This tremendous 100% varietal wine hails from ...   \n",
              "1           1   Spain  Ripe aromas of fig, blackberry and cassis are ...   \n",
              "2           2      US  Mac Watson honors the memory of a wine once ma...   \n",
              "3           3      US  This spent 20 months in 30% new French oak, an...   \n",
              "4           4  France  This is the top wine from La Bégude, named aft...   \n",
              "\n",
              "                            designation  points  price        province  \\\n",
              "0                     Martha's Vineyard      96  235.0      California   \n",
              "1  Carodorum Selección Especial Reserva      96  110.0  Northern Spain   \n",
              "2         Special Selected Late Harvest      96   90.0      California   \n",
              "3                               Reserve      96   65.0          Oregon   \n",
              "4                            La Brûlade      95   66.0        Provence   \n",
              "\n",
              "            region_1           region_2             variety  \\\n",
              "0        Napa Valley               Napa  Cabernet Sauvignon   \n",
              "1               Toro                NaN       Tinta de Toro   \n",
              "2     Knights Valley             Sonoma     Sauvignon Blanc   \n",
              "3  Willamette Valley  Willamette Valley          Pinot Noir   \n",
              "4             Bandol                NaN  Provence red blend   \n",
              "\n",
              "                    winery  \n",
              "0                    Heitz  \n",
              "1  Bodega Carmen Rodríguez  \n",
              "2                 Macauley  \n",
              "3                    Ponzi  \n",
              "4     Domaine de la Bégude  "
            ],
            "text/html": [
              "\n",
              "  <div id=\"df-7335594b-e9fe-449a-92bf-5848b533d1d5\">\n",
              "    <div class=\"colab-df-container\">\n",
              "      <div>\n",
              "<style scoped>\n",
              "    .dataframe tbody tr th:only-of-type {\n",
              "        vertical-align: middle;\n",
              "    }\n",
              "\n",
              "    .dataframe tbody tr th {\n",
              "        vertical-align: top;\n",
              "    }\n",
              "\n",
              "    .dataframe thead th {\n",
              "        text-align: right;\n",
              "    }\n",
              "</style>\n",
              "<table border=\"1\" class=\"dataframe\">\n",
              "  <thead>\n",
              "    <tr style=\"text-align: right;\">\n",
              "      <th></th>\n",
              "      <th>Unnamed: 0</th>\n",
              "      <th>country</th>\n",
              "      <th>description</th>\n",
              "      <th>designation</th>\n",
              "      <th>points</th>\n",
              "      <th>price</th>\n",
              "      <th>province</th>\n",
              "      <th>region_1</th>\n",
              "      <th>region_2</th>\n",
              "      <th>variety</th>\n",
              "      <th>winery</th>\n",
              "    </tr>\n",
              "  </thead>\n",
              "  <tbody>\n",
              "    <tr>\n",
              "      <th>0</th>\n",
              "      <td>0</td>\n",
              "      <td>US</td>\n",
              "      <td>This tremendous 100% varietal wine hails from ...</td>\n",
              "      <td>Martha's Vineyard</td>\n",
              "      <td>96</td>\n",
              "      <td>235.0</td>\n",
              "      <td>California</td>\n",
              "      <td>Napa Valley</td>\n",
              "      <td>Napa</td>\n",
              "      <td>Cabernet Sauvignon</td>\n",
              "      <td>Heitz</td>\n",
              "    </tr>\n",
              "    <tr>\n",
              "      <th>1</th>\n",
              "      <td>1</td>\n",
              "      <td>Spain</td>\n",
              "      <td>Ripe aromas of fig, blackberry and cassis are ...</td>\n",
              "      <td>Carodorum Selección Especial Reserva</td>\n",
              "      <td>96</td>\n",
              "      <td>110.0</td>\n",
              "      <td>Northern Spain</td>\n",
              "      <td>Toro</td>\n",
              "      <td>NaN</td>\n",
              "      <td>Tinta de Toro</td>\n",
              "      <td>Bodega Carmen Rodríguez</td>\n",
              "    </tr>\n",
              "    <tr>\n",
              "      <th>2</th>\n",
              "      <td>2</td>\n",
              "      <td>US</td>\n",
              "      <td>Mac Watson honors the memory of a wine once ma...</td>\n",
              "      <td>Special Selected Late Harvest</td>\n",
              "      <td>96</td>\n",
              "      <td>90.0</td>\n",
              "      <td>California</td>\n",
              "      <td>Knights Valley</td>\n",
              "      <td>Sonoma</td>\n",
              "      <td>Sauvignon Blanc</td>\n",
              "      <td>Macauley</td>\n",
              "    </tr>\n",
              "    <tr>\n",
              "      <th>3</th>\n",
              "      <td>3</td>\n",
              "      <td>US</td>\n",
              "      <td>This spent 20 months in 30% new French oak, an...</td>\n",
              "      <td>Reserve</td>\n",
              "      <td>96</td>\n",
              "      <td>65.0</td>\n",
              "      <td>Oregon</td>\n",
              "      <td>Willamette Valley</td>\n",
              "      <td>Willamette Valley</td>\n",
              "      <td>Pinot Noir</td>\n",
              "      <td>Ponzi</td>\n",
              "    </tr>\n",
              "    <tr>\n",
              "      <th>4</th>\n",
              "      <td>4</td>\n",
              "      <td>France</td>\n",
              "      <td>This is the top wine from La Bégude, named aft...</td>\n",
              "      <td>La Brûlade</td>\n",
              "      <td>95</td>\n",
              "      <td>66.0</td>\n",
              "      <td>Provence</td>\n",
              "      <td>Bandol</td>\n",
              "      <td>NaN</td>\n",
              "      <td>Provence red blend</td>\n",
              "      <td>Domaine de la Bégude</td>\n",
              "    </tr>\n",
              "  </tbody>\n",
              "</table>\n",
              "</div>\n",
              "      <button class=\"colab-df-convert\" onclick=\"convertToInteractive('df-7335594b-e9fe-449a-92bf-5848b533d1d5')\"\n",
              "              title=\"Convert this dataframe to an interactive table.\"\n",
              "              style=\"display:none;\">\n",
              "        \n",
              "  <svg xmlns=\"http://www.w3.org/2000/svg\" height=\"24px\"viewBox=\"0 0 24 24\"\n",
              "       width=\"24px\">\n",
              "    <path d=\"M0 0h24v24H0V0z\" fill=\"none\"/>\n",
              "    <path d=\"M18.56 5.44l.94 2.06.94-2.06 2.06-.94-2.06-.94-.94-2.06-.94 2.06-2.06.94zm-11 1L8.5 8.5l.94-2.06 2.06-.94-2.06-.94L8.5 2.5l-.94 2.06-2.06.94zm10 10l.94 2.06.94-2.06 2.06-.94-2.06-.94-.94-2.06-.94 2.06-2.06.94z\"/><path d=\"M17.41 7.96l-1.37-1.37c-.4-.4-.92-.59-1.43-.59-.52 0-1.04.2-1.43.59L10.3 9.45l-7.72 7.72c-.78.78-.78 2.05 0 2.83L4 21.41c.39.39.9.59 1.41.59.51 0 1.02-.2 1.41-.59l7.78-7.78 2.81-2.81c.8-.78.8-2.07 0-2.86zM5.41 20L4 18.59l7.72-7.72 1.47 1.35L5.41 20z\"/>\n",
              "  </svg>\n",
              "      </button>\n",
              "      \n",
              "  <style>\n",
              "    .colab-df-container {\n",
              "      display:flex;\n",
              "      flex-wrap:wrap;\n",
              "      gap: 12px;\n",
              "    }\n",
              "\n",
              "    .colab-df-convert {\n",
              "      background-color: #E8F0FE;\n",
              "      border: none;\n",
              "      border-radius: 50%;\n",
              "      cursor: pointer;\n",
              "      display: none;\n",
              "      fill: #1967D2;\n",
              "      height: 32px;\n",
              "      padding: 0 0 0 0;\n",
              "      width: 32px;\n",
              "    }\n",
              "\n",
              "    .colab-df-convert:hover {\n",
              "      background-color: #E2EBFA;\n",
              "      box-shadow: 0px 1px 2px rgba(60, 64, 67, 0.3), 0px 1px 3px 1px rgba(60, 64, 67, 0.15);\n",
              "      fill: #174EA6;\n",
              "    }\n",
              "\n",
              "    [theme=dark] .colab-df-convert {\n",
              "      background-color: #3B4455;\n",
              "      fill: #D2E3FC;\n",
              "    }\n",
              "\n",
              "    [theme=dark] .colab-df-convert:hover {\n",
              "      background-color: #434B5C;\n",
              "      box-shadow: 0px 1px 3px 1px rgba(0, 0, 0, 0.15);\n",
              "      filter: drop-shadow(0px 1px 2px rgba(0, 0, 0, 0.3));\n",
              "      fill: #FFFFFF;\n",
              "    }\n",
              "  </style>\n",
              "\n",
              "      <script>\n",
              "        const buttonEl =\n",
              "          document.querySelector('#df-7335594b-e9fe-449a-92bf-5848b533d1d5 button.colab-df-convert');\n",
              "        buttonEl.style.display =\n",
              "          google.colab.kernel.accessAllowed ? 'block' : 'none';\n",
              "\n",
              "        async function convertToInteractive(key) {\n",
              "          const element = document.querySelector('#df-7335594b-e9fe-449a-92bf-5848b533d1d5');\n",
              "          const dataTable =\n",
              "            await google.colab.kernel.invokeFunction('convertToInteractive',\n",
              "                                                     [key], {});\n",
              "          if (!dataTable) return;\n",
              "\n",
              "          const docLinkHtml = 'Like what you see? Visit the ' +\n",
              "            '<a target=\"_blank\" href=https://colab.research.google.com/notebooks/data_table.ipynb>data table notebook</a>'\n",
              "            + ' to learn more about interactive tables.';\n",
              "          element.innerHTML = '';\n",
              "          dataTable['output_type'] = 'display_data';\n",
              "          await google.colab.output.renderOutput(dataTable, element);\n",
              "          const docLink = document.createElement('div');\n",
              "          docLink.innerHTML = docLinkHtml;\n",
              "          element.appendChild(docLink);\n",
              "        }\n",
              "      </script>\n",
              "    </div>\n",
              "  </div>\n",
              "  "
            ]
          },
          "metadata": {},
          "execution_count": 6
        }
      ]
    },
    {
      "metadata": {
        "_uuid": "9dc27de8c857b7a007f9dd30708f5b1b914a1932",
        "id": "m8E1eRwP3h0d"
      },
      "cell_type": "markdown",
      "source": [
        "Each line corresponds to a wine and each column is an infomration about that wine. Since our aim is to classify grape variety, our target feature will be the *variety* column. We will use the description column, which is a characterisation by an expert, to determine to which target feature it belongs to."
      ]
    },
    {
      "metadata": {
        "_uuid": "ee9057acf9b0eef9c46494c93f5d9bfd417f5503",
        "id": "nIv4xGrG3h0f"
      },
      "cell_type": "markdown",
      "source": [
        "<a id=\"ch2\"></a>\n",
        "## 2. Data preprocessing\n",
        "\n",
        "<a id=\"ch2.1\"></a>\n",
        "### 2.1 Selecting features\n",
        "First we drop some of the columns we are certainly not interested in. The ones not droped will be helpful to clean the data."
      ]
    },
    {
      "metadata": {
        "trusted": true,
        "_uuid": "14f2197aea24bdd5966370b3e68876566f23ee45",
        "id": "bYoRNg7O3h0g"
      },
      "cell_type": "code",
      "source": [
        "data_sel = data.drop(['Unnamed: 0','designation','points','region_2',], axis = 1)"
      ],
      "execution_count": null,
      "outputs": []
    },
    {
      "metadata": {
        "trusted": true,
        "_uuid": "e24467ddb21e8f368161577bf45cd2967aa770cf",
        "id": "AzZs0HUw3h0h",
        "colab": {
          "base_uri": "https://localhost:8080/"
        },
        "outputId": "fbbba563-460c-4890-bfba-59a6cdde2b71"
      },
      "cell_type": "code",
      "source": [
        "data_sel.shape"
      ],
      "execution_count": null,
      "outputs": [
        {
          "output_type": "execute_result",
          "data": {
            "text/plain": [
              "(150930, 7)"
            ]
          },
          "metadata": {},
          "execution_count": 8
        }
      ]
    },
    {
      "metadata": {
        "_uuid": "9a553097aed6018853eb4a919f78479dd2b52168",
        "id": "MvKjK42D3h0i"
      },
      "cell_type": "markdown",
      "source": [
        "Now we have 7 columns and 150 930 rows. Let us see if all the samples are relevent to us."
      ]
    },
    {
      "metadata": {
        "_uuid": "7bfa27c362e6c009f38401362b298effcdcba0bd",
        "id": "RGEgx70d3h0i"
      },
      "cell_type": "markdown",
      "source": [
        "<a id=\"ch2.2\"></a>\n",
        "### 2.2 Removing duplicates, NAs and text formatting\n",
        "We do not want any duplication in the description column since that might falsely over emphasize certain features. Therefore, we start by dropping any description duplicates."
      ]
    },
    {
      "metadata": {
        "trusted": true,
        "_uuid": "c8d2718b5ff0b9f6539b43b509e7971cbd30cf13",
        "id": "XO8NbyW73h0j"
      },
      "cell_type": "code",
      "source": [
        "data_single = data_sel.drop_duplicates('description')"
      ],
      "execution_count": null,
      "outputs": []
    },
    {
      "metadata": {
        "trusted": true,
        "_uuid": "31340a9ceb1074e508e8d72c0d2aaa0be01b9f76",
        "colab": {
          "base_uri": "https://localhost:8080/"
        },
        "id": "7ULJ_qBo3h0j",
        "outputId": "f2ff5d54-23ac-4aa6-c78a-98509036ce70"
      },
      "cell_type": "code",
      "source": [
        "data_single.shape"
      ],
      "execution_count": null,
      "outputs": [
        {
          "output_type": "execute_result",
          "data": {
            "text/plain": [
              "(97821, 7)"
            ]
          },
          "metadata": {},
          "execution_count": 10
        }
      ]
    },
    {
      "metadata": {
        "_uuid": "5307bf4a9784979beeabe88ac8dff4b2f8675b3d",
        "id": "HyC606Cw3h0k"
      },
      "cell_type": "markdown",
      "source": [
        "Interestingly there were quite a few duplicates. There were either duplicates of some wines or the different vintages of the same wine had the same description. Now we have 97 821 unique samples. \n",
        "Most of the times, these kind of data bases are not fully filled, therefore we might have some NAs in features we are interested in: description, variety (and maybe price). In the case of price we could estimate a value based on other similar inputs, but we are not able to come up with new descriptions or varieties, therefore we just simply drop any row that contains NAs in these columns."
      ]
    },
    {
      "metadata": {
        "trusted": true,
        "_uuid": "a3f03c2c0a8bca5a818fa088dd6e5ad3c5f6363c",
        "id": "VhC-8HS63h0k"
      },
      "cell_type": "code",
      "source": [
        "data_single = data_single.dropna(subset=['description', 'variety', 'price'])"
      ],
      "execution_count": null,
      "outputs": []
    },
    {
      "metadata": {
        "trusted": true,
        "_uuid": "520d572d001438f6b31c4b76aa66ef89e527f729",
        "colab": {
          "base_uri": "https://localhost:8080/",
          "height": 206
        },
        "id": "xxrif2rk3h0l",
        "outputId": "b4e47787-5c3b-4e57-d32d-b46654e177fc"
      },
      "cell_type": "code",
      "source": [
        "data_single.head()"
      ],
      "execution_count": null,
      "outputs": [
        {
          "output_type": "execute_result",
          "data": {
            "text/plain": [
              "  country                                        description  price  \\\n",
              "0      US  This tremendous 100% varietal wine hails from ...  235.0   \n",
              "1   Spain  Ripe aromas of fig, blackberry and cassis are ...  110.0   \n",
              "2      US  Mac Watson honors the memory of a wine once ma...   90.0   \n",
              "3      US  This spent 20 months in 30% new French oak, an...   65.0   \n",
              "4  France  This is the top wine from La Bégude, named aft...   66.0   \n",
              "\n",
              "         province           region_1             variety  \\\n",
              "0      California        Napa Valley  Cabernet Sauvignon   \n",
              "1  Northern Spain               Toro       Tinta de Toro   \n",
              "2      California     Knights Valley     Sauvignon Blanc   \n",
              "3          Oregon  Willamette Valley          Pinot Noir   \n",
              "4        Provence             Bandol  Provence red blend   \n",
              "\n",
              "                    winery  \n",
              "0                    Heitz  \n",
              "1  Bodega Carmen Rodríguez  \n",
              "2                 Macauley  \n",
              "3                    Ponzi  \n",
              "4     Domaine de la Bégude  "
            ],
            "text/html": [
              "\n",
              "  <div id=\"df-61df5a1d-8723-45d6-948f-5dcb2a727390\">\n",
              "    <div class=\"colab-df-container\">\n",
              "      <div>\n",
              "<style scoped>\n",
              "    .dataframe tbody tr th:only-of-type {\n",
              "        vertical-align: middle;\n",
              "    }\n",
              "\n",
              "    .dataframe tbody tr th {\n",
              "        vertical-align: top;\n",
              "    }\n",
              "\n",
              "    .dataframe thead th {\n",
              "        text-align: right;\n",
              "    }\n",
              "</style>\n",
              "<table border=\"1\" class=\"dataframe\">\n",
              "  <thead>\n",
              "    <tr style=\"text-align: right;\">\n",
              "      <th></th>\n",
              "      <th>country</th>\n",
              "      <th>description</th>\n",
              "      <th>price</th>\n",
              "      <th>province</th>\n",
              "      <th>region_1</th>\n",
              "      <th>variety</th>\n",
              "      <th>winery</th>\n",
              "    </tr>\n",
              "  </thead>\n",
              "  <tbody>\n",
              "    <tr>\n",
              "      <th>0</th>\n",
              "      <td>US</td>\n",
              "      <td>This tremendous 100% varietal wine hails from ...</td>\n",
              "      <td>235.0</td>\n",
              "      <td>California</td>\n",
              "      <td>Napa Valley</td>\n",
              "      <td>Cabernet Sauvignon</td>\n",
              "      <td>Heitz</td>\n",
              "    </tr>\n",
              "    <tr>\n",
              "      <th>1</th>\n",
              "      <td>Spain</td>\n",
              "      <td>Ripe aromas of fig, blackberry and cassis are ...</td>\n",
              "      <td>110.0</td>\n",
              "      <td>Northern Spain</td>\n",
              "      <td>Toro</td>\n",
              "      <td>Tinta de Toro</td>\n",
              "      <td>Bodega Carmen Rodríguez</td>\n",
              "    </tr>\n",
              "    <tr>\n",
              "      <th>2</th>\n",
              "      <td>US</td>\n",
              "      <td>Mac Watson honors the memory of a wine once ma...</td>\n",
              "      <td>90.0</td>\n",
              "      <td>California</td>\n",
              "      <td>Knights Valley</td>\n",
              "      <td>Sauvignon Blanc</td>\n",
              "      <td>Macauley</td>\n",
              "    </tr>\n",
              "    <tr>\n",
              "      <th>3</th>\n",
              "      <td>US</td>\n",
              "      <td>This spent 20 months in 30% new French oak, an...</td>\n",
              "      <td>65.0</td>\n",
              "      <td>Oregon</td>\n",
              "      <td>Willamette Valley</td>\n",
              "      <td>Pinot Noir</td>\n",
              "      <td>Ponzi</td>\n",
              "    </tr>\n",
              "    <tr>\n",
              "      <th>4</th>\n",
              "      <td>France</td>\n",
              "      <td>This is the top wine from La Bégude, named aft...</td>\n",
              "      <td>66.0</td>\n",
              "      <td>Provence</td>\n",
              "      <td>Bandol</td>\n",
              "      <td>Provence red blend</td>\n",
              "      <td>Domaine de la Bégude</td>\n",
              "    </tr>\n",
              "  </tbody>\n",
              "</table>\n",
              "</div>\n",
              "      <button class=\"colab-df-convert\" onclick=\"convertToInteractive('df-61df5a1d-8723-45d6-948f-5dcb2a727390')\"\n",
              "              title=\"Convert this dataframe to an interactive table.\"\n",
              "              style=\"display:none;\">\n",
              "        \n",
              "  <svg xmlns=\"http://www.w3.org/2000/svg\" height=\"24px\"viewBox=\"0 0 24 24\"\n",
              "       width=\"24px\">\n",
              "    <path d=\"M0 0h24v24H0V0z\" fill=\"none\"/>\n",
              "    <path d=\"M18.56 5.44l.94 2.06.94-2.06 2.06-.94-2.06-.94-.94-2.06-.94 2.06-2.06.94zm-11 1L8.5 8.5l.94-2.06 2.06-.94-2.06-.94L8.5 2.5l-.94 2.06-2.06.94zm10 10l.94 2.06.94-2.06 2.06-.94-2.06-.94-.94-2.06-.94 2.06-2.06.94z\"/><path d=\"M17.41 7.96l-1.37-1.37c-.4-.4-.92-.59-1.43-.59-.52 0-1.04.2-1.43.59L10.3 9.45l-7.72 7.72c-.78.78-.78 2.05 0 2.83L4 21.41c.39.39.9.59 1.41.59.51 0 1.02-.2 1.41-.59l7.78-7.78 2.81-2.81c.8-.78.8-2.07 0-2.86zM5.41 20L4 18.59l7.72-7.72 1.47 1.35L5.41 20z\"/>\n",
              "  </svg>\n",
              "      </button>\n",
              "      \n",
              "  <style>\n",
              "    .colab-df-container {\n",
              "      display:flex;\n",
              "      flex-wrap:wrap;\n",
              "      gap: 12px;\n",
              "    }\n",
              "\n",
              "    .colab-df-convert {\n",
              "      background-color: #E8F0FE;\n",
              "      border: none;\n",
              "      border-radius: 50%;\n",
              "      cursor: pointer;\n",
              "      display: none;\n",
              "      fill: #1967D2;\n",
              "      height: 32px;\n",
              "      padding: 0 0 0 0;\n",
              "      width: 32px;\n",
              "    }\n",
              "\n",
              "    .colab-df-convert:hover {\n",
              "      background-color: #E2EBFA;\n",
              "      box-shadow: 0px 1px 2px rgba(60, 64, 67, 0.3), 0px 1px 3px 1px rgba(60, 64, 67, 0.15);\n",
              "      fill: #174EA6;\n",
              "    }\n",
              "\n",
              "    [theme=dark] .colab-df-convert {\n",
              "      background-color: #3B4455;\n",
              "      fill: #D2E3FC;\n",
              "    }\n",
              "\n",
              "    [theme=dark] .colab-df-convert:hover {\n",
              "      background-color: #434B5C;\n",
              "      box-shadow: 0px 1px 3px 1px rgba(0, 0, 0, 0.15);\n",
              "      filter: drop-shadow(0px 1px 2px rgba(0, 0, 0, 0.3));\n",
              "      fill: #FFFFFF;\n",
              "    }\n",
              "  </style>\n",
              "\n",
              "      <script>\n",
              "        const buttonEl =\n",
              "          document.querySelector('#df-61df5a1d-8723-45d6-948f-5dcb2a727390 button.colab-df-convert');\n",
              "        buttonEl.style.display =\n",
              "          google.colab.kernel.accessAllowed ? 'block' : 'none';\n",
              "\n",
              "        async function convertToInteractive(key) {\n",
              "          const element = document.querySelector('#df-61df5a1d-8723-45d6-948f-5dcb2a727390');\n",
              "          const dataTable =\n",
              "            await google.colab.kernel.invokeFunction('convertToInteractive',\n",
              "                                                     [key], {});\n",
              "          if (!dataTable) return;\n",
              "\n",
              "          const docLinkHtml = 'Like what you see? Visit the ' +\n",
              "            '<a target=\"_blank\" href=https://colab.research.google.com/notebooks/data_table.ipynb>data table notebook</a>'\n",
              "            + ' to learn more about interactive tables.';\n",
              "          element.innerHTML = '';\n",
              "          dataTable['output_type'] = 'display_data';\n",
              "          await google.colab.output.renderOutput(dataTable, element);\n",
              "          const docLink = document.createElement('div');\n",
              "          docLink.innerHTML = docLinkHtml;\n",
              "          element.appendChild(docLink);\n",
              "        }\n",
              "      </script>\n",
              "    </div>\n",
              "  </div>\n",
              "  "
            ]
          },
          "metadata": {},
          "execution_count": 12
        }
      ]
    },
    {
      "metadata": {
        "trusted": true,
        "_uuid": "a3d8b9a66a9a985f980772093b067ff908e35a78",
        "scrolled": true,
        "colab": {
          "base_uri": "https://localhost:8080/",
          "height": 394
        },
        "id": "QPYD-dLS3h0l",
        "outputId": "34a71ac9-18c5-45bc-b6b5-4029ee71fc12"
      },
      "cell_type": "code",
      "source": [
        "data_single.describe(include='all')"
      ],
      "execution_count": null,
      "outputs": [
        {
          "output_type": "execute_result",
          "data": {
            "text/plain": [
              "       country                                        description  \\\n",
              "count    89105                                              89108   \n",
              "unique      46                                              89108   \n",
              "top         US  This tremendous 100% varietal wine hails from ...   \n",
              "freq     40338                                                  1   \n",
              "mean       NaN                                                NaN   \n",
              "std        NaN                                                NaN   \n",
              "min        NaN                                                NaN   \n",
              "25%        NaN                                                NaN   \n",
              "50%        NaN                                                NaN   \n",
              "75%        NaN                                                NaN   \n",
              "max        NaN                                                NaN   \n",
              "\n",
              "               price    province     region_1     variety           winery  \n",
              "count   89108.000000       89105        74587       89108            89108  \n",
              "unique           NaN         446         1197         619            13852  \n",
              "top              NaN  California  Napa Valley  Pinot Noir  Williams Selyem  \n",
              "freq             NaN       28672         4112        8802              233  \n",
              "mean       33.659077         NaN          NaN         NaN              NaN  \n",
              "std        37.667717         NaN          NaN         NaN              NaN  \n",
              "min         4.000000         NaN          NaN         NaN              NaN  \n",
              "25%        16.000000         NaN          NaN         NaN              NaN  \n",
              "50%        25.000000         NaN          NaN         NaN              NaN  \n",
              "75%        40.000000         NaN          NaN         NaN              NaN  \n",
              "max      2300.000000         NaN          NaN         NaN              NaN  "
            ],
            "text/html": [
              "\n",
              "  <div id=\"df-71101112-32b0-4966-8277-d427da891149\">\n",
              "    <div class=\"colab-df-container\">\n",
              "      <div>\n",
              "<style scoped>\n",
              "    .dataframe tbody tr th:only-of-type {\n",
              "        vertical-align: middle;\n",
              "    }\n",
              "\n",
              "    .dataframe tbody tr th {\n",
              "        vertical-align: top;\n",
              "    }\n",
              "\n",
              "    .dataframe thead th {\n",
              "        text-align: right;\n",
              "    }\n",
              "</style>\n",
              "<table border=\"1\" class=\"dataframe\">\n",
              "  <thead>\n",
              "    <tr style=\"text-align: right;\">\n",
              "      <th></th>\n",
              "      <th>country</th>\n",
              "      <th>description</th>\n",
              "      <th>price</th>\n",
              "      <th>province</th>\n",
              "      <th>region_1</th>\n",
              "      <th>variety</th>\n",
              "      <th>winery</th>\n",
              "    </tr>\n",
              "  </thead>\n",
              "  <tbody>\n",
              "    <tr>\n",
              "      <th>count</th>\n",
              "      <td>89105</td>\n",
              "      <td>89108</td>\n",
              "      <td>89108.000000</td>\n",
              "      <td>89105</td>\n",
              "      <td>74587</td>\n",
              "      <td>89108</td>\n",
              "      <td>89108</td>\n",
              "    </tr>\n",
              "    <tr>\n",
              "      <th>unique</th>\n",
              "      <td>46</td>\n",
              "      <td>89108</td>\n",
              "      <td>NaN</td>\n",
              "      <td>446</td>\n",
              "      <td>1197</td>\n",
              "      <td>619</td>\n",
              "      <td>13852</td>\n",
              "    </tr>\n",
              "    <tr>\n",
              "      <th>top</th>\n",
              "      <td>US</td>\n",
              "      <td>This tremendous 100% varietal wine hails from ...</td>\n",
              "      <td>NaN</td>\n",
              "      <td>California</td>\n",
              "      <td>Napa Valley</td>\n",
              "      <td>Pinot Noir</td>\n",
              "      <td>Williams Selyem</td>\n",
              "    </tr>\n",
              "    <tr>\n",
              "      <th>freq</th>\n",
              "      <td>40338</td>\n",
              "      <td>1</td>\n",
              "      <td>NaN</td>\n",
              "      <td>28672</td>\n",
              "      <td>4112</td>\n",
              "      <td>8802</td>\n",
              "      <td>233</td>\n",
              "    </tr>\n",
              "    <tr>\n",
              "      <th>mean</th>\n",
              "      <td>NaN</td>\n",
              "      <td>NaN</td>\n",
              "      <td>33.659077</td>\n",
              "      <td>NaN</td>\n",
              "      <td>NaN</td>\n",
              "      <td>NaN</td>\n",
              "      <td>NaN</td>\n",
              "    </tr>\n",
              "    <tr>\n",
              "      <th>std</th>\n",
              "      <td>NaN</td>\n",
              "      <td>NaN</td>\n",
              "      <td>37.667717</td>\n",
              "      <td>NaN</td>\n",
              "      <td>NaN</td>\n",
              "      <td>NaN</td>\n",
              "      <td>NaN</td>\n",
              "    </tr>\n",
              "    <tr>\n",
              "      <th>min</th>\n",
              "      <td>NaN</td>\n",
              "      <td>NaN</td>\n",
              "      <td>4.000000</td>\n",
              "      <td>NaN</td>\n",
              "      <td>NaN</td>\n",
              "      <td>NaN</td>\n",
              "      <td>NaN</td>\n",
              "    </tr>\n",
              "    <tr>\n",
              "      <th>25%</th>\n",
              "      <td>NaN</td>\n",
              "      <td>NaN</td>\n",
              "      <td>16.000000</td>\n",
              "      <td>NaN</td>\n",
              "      <td>NaN</td>\n",
              "      <td>NaN</td>\n",
              "      <td>NaN</td>\n",
              "    </tr>\n",
              "    <tr>\n",
              "      <th>50%</th>\n",
              "      <td>NaN</td>\n",
              "      <td>NaN</td>\n",
              "      <td>25.000000</td>\n",
              "      <td>NaN</td>\n",
              "      <td>NaN</td>\n",
              "      <td>NaN</td>\n",
              "      <td>NaN</td>\n",
              "    </tr>\n",
              "    <tr>\n",
              "      <th>75%</th>\n",
              "      <td>NaN</td>\n",
              "      <td>NaN</td>\n",
              "      <td>40.000000</td>\n",
              "      <td>NaN</td>\n",
              "      <td>NaN</td>\n",
              "      <td>NaN</td>\n",
              "      <td>NaN</td>\n",
              "    </tr>\n",
              "    <tr>\n",
              "      <th>max</th>\n",
              "      <td>NaN</td>\n",
              "      <td>NaN</td>\n",
              "      <td>2300.000000</td>\n",
              "      <td>NaN</td>\n",
              "      <td>NaN</td>\n",
              "      <td>NaN</td>\n",
              "      <td>NaN</td>\n",
              "    </tr>\n",
              "  </tbody>\n",
              "</table>\n",
              "</div>\n",
              "      <button class=\"colab-df-convert\" onclick=\"convertToInteractive('df-71101112-32b0-4966-8277-d427da891149')\"\n",
              "              title=\"Convert this dataframe to an interactive table.\"\n",
              "              style=\"display:none;\">\n",
              "        \n",
              "  <svg xmlns=\"http://www.w3.org/2000/svg\" height=\"24px\"viewBox=\"0 0 24 24\"\n",
              "       width=\"24px\">\n",
              "    <path d=\"M0 0h24v24H0V0z\" fill=\"none\"/>\n",
              "    <path d=\"M18.56 5.44l.94 2.06.94-2.06 2.06-.94-2.06-.94-.94-2.06-.94 2.06-2.06.94zm-11 1L8.5 8.5l.94-2.06 2.06-.94-2.06-.94L8.5 2.5l-.94 2.06-2.06.94zm10 10l.94 2.06.94-2.06 2.06-.94-2.06-.94-.94-2.06-.94 2.06-2.06.94z\"/><path d=\"M17.41 7.96l-1.37-1.37c-.4-.4-.92-.59-1.43-.59-.52 0-1.04.2-1.43.59L10.3 9.45l-7.72 7.72c-.78.78-.78 2.05 0 2.83L4 21.41c.39.39.9.59 1.41.59.51 0 1.02-.2 1.41-.59l7.78-7.78 2.81-2.81c.8-.78.8-2.07 0-2.86zM5.41 20L4 18.59l7.72-7.72 1.47 1.35L5.41 20z\"/>\n",
              "  </svg>\n",
              "      </button>\n",
              "      \n",
              "  <style>\n",
              "    .colab-df-container {\n",
              "      display:flex;\n",
              "      flex-wrap:wrap;\n",
              "      gap: 12px;\n",
              "    }\n",
              "\n",
              "    .colab-df-convert {\n",
              "      background-color: #E8F0FE;\n",
              "      border: none;\n",
              "      border-radius: 50%;\n",
              "      cursor: pointer;\n",
              "      display: none;\n",
              "      fill: #1967D2;\n",
              "      height: 32px;\n",
              "      padding: 0 0 0 0;\n",
              "      width: 32px;\n",
              "    }\n",
              "\n",
              "    .colab-df-convert:hover {\n",
              "      background-color: #E2EBFA;\n",
              "      box-shadow: 0px 1px 2px rgba(60, 64, 67, 0.3), 0px 1px 3px 1px rgba(60, 64, 67, 0.15);\n",
              "      fill: #174EA6;\n",
              "    }\n",
              "\n",
              "    [theme=dark] .colab-df-convert {\n",
              "      background-color: #3B4455;\n",
              "      fill: #D2E3FC;\n",
              "    }\n",
              "\n",
              "    [theme=dark] .colab-df-convert:hover {\n",
              "      background-color: #434B5C;\n",
              "      box-shadow: 0px 1px 3px 1px rgba(0, 0, 0, 0.15);\n",
              "      filter: drop-shadow(0px 1px 2px rgba(0, 0, 0, 0.3));\n",
              "      fill: #FFFFFF;\n",
              "    }\n",
              "  </style>\n",
              "\n",
              "      <script>\n",
              "        const buttonEl =\n",
              "          document.querySelector('#df-71101112-32b0-4966-8277-d427da891149 button.colab-df-convert');\n",
              "        buttonEl.style.display =\n",
              "          google.colab.kernel.accessAllowed ? 'block' : 'none';\n",
              "\n",
              "        async function convertToInteractive(key) {\n",
              "          const element = document.querySelector('#df-71101112-32b0-4966-8277-d427da891149');\n",
              "          const dataTable =\n",
              "            await google.colab.kernel.invokeFunction('convertToInteractive',\n",
              "                                                     [key], {});\n",
              "          if (!dataTable) return;\n",
              "\n",
              "          const docLinkHtml = 'Like what you see? Visit the ' +\n",
              "            '<a target=\"_blank\" href=https://colab.research.google.com/notebooks/data_table.ipynb>data table notebook</a>'\n",
              "            + ' to learn more about interactive tables.';\n",
              "          element.innerHTML = '';\n",
              "          dataTable['output_type'] = 'display_data';\n",
              "          await google.colab.output.renderOutput(dataTable, element);\n",
              "          const docLink = document.createElement('div');\n",
              "          docLink.innerHTML = docLinkHtml;\n",
              "          element.appendChild(docLink);\n",
              "        }\n",
              "      </script>\n",
              "    </div>\n",
              "  </div>\n",
              "  "
            ]
          },
          "metadata": {},
          "execution_count": 13
        }
      ]
    },
    {
      "metadata": {
        "_uuid": "7dc18ba941cdf7af3d8bd70952a3046d15053e20",
        "id": "r7aDOUUr3h0m"
      },
      "cell_type": "markdown",
      "source": [
        "We have left country, province, region_1 and winery in as features, because they will serve as stop words to be removed from the description column, to try to decrease the chance of having any hints in the description about grape type. \n",
        "\n",
        "We have printed a summary of the data frame too. We can see that the number of samples in description, variety and price match, which is a good sign, meaning they should be unique inputs. It seems there are NAs in country, province and region_1. There are 619 unique grape varieties, pinot noir being the most frequent, having 8802 inputs. The price range is quite wide. Would you pay $2300 for a bottle of wine? \n",
        "The next thing we do is to transform all text into lower case letters and remove any accents from letters."
      ]
    },
    {
      "metadata": {
        "trusted": true,
        "_uuid": "608a4495675961dce02e405eb15da27d5a15c1b1",
        "id": "hribgxaf3h0m"
      },
      "cell_type": "code",
      "source": [
        "for col in ['variety', 'description', 'province', 'region_1', 'winery', 'country']:\n",
        "    data_single[col] = data_single[col].str.lower()\n"
      ],
      "execution_count": null,
      "outputs": []
    },
    {
      "metadata": {
        "trusted": true,
        "_uuid": "ce50cfa4bc12d2b5f2cb01eab11389bed18649a2",
        "id": "5r9kvEmg3h0n"
      },
      "cell_type": "code",
      "source": [
        "for col in ['description', 'variety', 'province', 'winery']:\n",
        "    data_single[col] = data_single.apply(lambda row: unidecode_text(row[col]), axis=1)"
      ],
      "execution_count": null,
      "outputs": []
    },
    {
      "metadata": {
        "_uuid": "831fb46f9ab2b83f736395badb5c38ba46c91a25",
        "id": "APgcwnve3h0n"
      },
      "cell_type": "markdown",
      "source": [
        "<a id=\"ch2.3\"></a>\n",
        "### 2.3 Target feature processing\n",
        "By looking at the feature target, varieties, we can find out that there are 619 varieties, each one having different number of inputs, many of them having only one. Certainly, the latter ones will not be of use, because we will not be able to train and test on one sample. Later on we will set a limit on how many samples a variety has to have. "
      ]
    },
    {
      "metadata": {
        "trusted": true,
        "_uuid": "b7c7a67e7275b8b700d16454e57ad891848d6238",
        "scrolled": true,
        "colab": {
          "base_uri": "https://localhost:8080/"
        },
        "id": "Ou-ke_173h0o",
        "outputId": "31452b90-3b60-4cf1-9fba-e1b2f7d0ed05"
      },
      "cell_type": "code",
      "source": [
        "data_single.variety.value_counts()"
      ],
      "execution_count": null,
      "outputs": [
        {
          "output_type": "execute_result",
          "data": {
            "text/plain": [
              "pinot noir            8802\n",
              "chardonnay            8696\n",
              "cabernet sauvignon    8182\n",
              "red blend             6073\n",
              "sauvignon blanc       3871\n",
              "                      ... \n",
              "kinali yapincak          1\n",
              "saperavi-merlot          1\n",
              "torontel                 1\n",
              "chinuri                  1\n",
              "carnelian                1\n",
              "Name: variety, Length: 619, dtype: int64"
            ]
          },
          "metadata": {},
          "execution_count": 17
        }
      ]
    },
    {
      "metadata": {
        "_uuid": "ce33f517f594a53bd8274b10f07688c22a5ead88",
        "id": "wqIpnR3I3h0o"
      },
      "cell_type": "markdown",
      "source": [
        "We can see many blend wines. A blended wine refers to a mixture of different grapes (not necessarily having a concensus on what grapes are included). We find it too ambitious to have a classifier that could correctly identify these wines, therefore we simply remove those samples that are labelled blends. Also, there are roses too, without any reference to the type of the grape it was produced. That is why we will remove roses too. \n",
        "Below you find a list of labels we will remove from the variety column. "
      ]
    },
    {
      "metadata": {
        "trusted": true,
        "_uuid": "a0457607841551fb1201e67e85bcbc2b5002f74d",
        "id": "7HV-ML6g3h0o"
      },
      "cell_type": "code",
      "source": [
        "filtered_name = ['red blend', 'portuguese red', 'white blend', 'sparkling blend', 'champagne blend', \n",
        "                 'portuguese white', 'rose', 'bordeaux-style red blend', 'rhone-style red blend',\n",
        "                 'bordeaux-style white blend', 'alsace white blend', 'austrian red blend',\n",
        "                 'austrian white blend', 'cabernet blend', 'malbec blend', 'portuguese rose',\n",
        "                 'portuguese sparkling', 'provence red blend', 'provence white blend',\n",
        "                 'rhone-style white blend', 'tempranillo blend', 'grenache blend',\n",
        "                 'meritage' # beaurdaux blend\n",
        "                ]"
      ],
      "execution_count": null,
      "outputs": []
    },
    {
      "metadata": {
        "trusted": true,
        "_uuid": "c723405b9c3364e192675d5276411c4fd8029ea2",
        "id": "q5PAy2It3h0p"
      },
      "cell_type": "code",
      "source": [
        "data_filtered = data_single.copy()\n",
        "data_filtered = data_filtered[~data_filtered['variety'].isin(filtered_name)]"
      ],
      "execution_count": null,
      "outputs": []
    },
    {
      "metadata": {
        "trusted": true,
        "_uuid": "89217c58a982fc1686ec00f7d1348acb82f0f3c3",
        "id": "9NUA1-Uo3h0p"
      },
      "cell_type": "markdown",
      "source": [
        "Our next task is to bring the variety names on a common ground. Different countries have different names for the same grape, so we should categorize them in the same way. For example *trebbiano* and *ugni blanc* is the same grape. Therefore, we make a mapping between certain names and their common name."
      ]
    },
    {
      "metadata": {
        "trusted": true,
        "_uuid": "00b891dece2ff1fddb0201bbc026ff36cec195e8",
        "id": "7_KFFVbh3h0p"
      },
      "cell_type": "code",
      "source": [
        "\n",
        "name_pairs = [('spatburgunder', 'pinot noir'), ('garnacha', 'grenache'), ('pinot nero', 'pinot noir'),\n",
        "              ('alvarinho', 'albarino'), ('assyrtico', 'assyrtiko'), ('black muscat', 'muscat hamburg'),\n",
        "              ('kekfrankos', 'blaufrankisch'), ('garnacha blanca', 'grenache blanc'),\n",
        "              ('garnacha tintorera', 'alicante bouschet'), ('sangiovese grosso', 'sangiovese')\n",
        "             ]"
      ],
      "execution_count": null,
      "outputs": []
    },
    {
      "metadata": {
        "trusted": true,
        "_uuid": "9c193b969557e1cc904c78cf481378a73fb82794",
        "id": "ewViuQ-a3h0q"
      },
      "cell_type": "code",
      "source": [
        "data_corrected = data_filtered.copy()\n",
        "data_corrected['variety'] = data_corrected['variety'].apply(lambda row: correct_grape_names(row))\n",
        "for start, end in name_pairs:\n",
        "    data_corrected['variety'] = data_corrected['variety'].replace(start, end) \n"
      ],
      "execution_count": null,
      "outputs": []
    },
    {
      "metadata": {
        "trusted": true,
        "_uuid": "0fabfb00064f981032cd25b3e55aa25bac651ac9",
        "colab": {
          "base_uri": "https://localhost:8080/"
        },
        "id": "43Go2Pxp3h0r",
        "outputId": "976f788a-a7c5-4471-8a45-8598e387a1b5"
      },
      "cell_type": "code",
      "source": [
        "len(data_corrected.variety.value_counts())"
      ],
      "execution_count": null,
      "outputs": [
        {
          "output_type": "execute_result",
          "data": {
            "text/plain": [
              "557"
            ]
          },
          "metadata": {},
          "execution_count": 22
        }
      ]
    },
    {
      "metadata": {
        "_uuid": "ca81a7dc093cf99322f662fbfc410349f105d8dd",
        "id": "fk5dCACH3h0s"
      },
      "cell_type": "markdown",
      "source": [
        "Visibly, we have now only 557 different grape types (and still there might be several references to the same grape under different names).\n",
        "Now we filter out any grape variety that has less than 200 samples in the data base. "
      ]
    },
    {
      "metadata": {
        "trusted": true,
        "_uuid": "01c50a283d94e85e66bf2fc746a39bd2a31d6b47",
        "colab": {
          "base_uri": "https://localhost:8080/"
        },
        "id": "A4hOLxJQ3h0s",
        "outputId": "3adc6047-58e1-4f0c-e252-36dcdeec5f7f"
      },
      "cell_type": "code",
      "source": [
        "data_reduced = data_corrected.groupby('variety').filter(lambda x: len(x) > 200)\n",
        "data_reduced.shape"
      ],
      "execution_count": null,
      "outputs": [
        {
          "output_type": "execute_result",
          "data": {
            "text/plain": [
              "(62087, 7)"
            ]
          },
          "metadata": {},
          "execution_count": 23
        }
      ]
    },
    {
      "metadata": {
        "_uuid": "7b7bad4fa878cf6e19b01393453308cda99088a2",
        "id": "XlyIDvkY3h0t"
      },
      "cell_type": "markdown",
      "source": [
        "Now we have only 62 087 inputs and 35 grape labels. As you can see the number of samples for each grape is very imbalanced which actually has a great implication on the performance of the classifier. We will discuss this in [section 6](#ch6)."
      ]
    },
    {
      "metadata": {
        "trusted": true,
        "_uuid": "59273dca87c13929be2836a8d3784c2c442ed16e",
        "id": "GYcecnDC3h0t"
      },
      "cell_type": "code",
      "source": [
        "grapes = list(np.unique(data_reduced.variety.value_counts().index.tolist()))"
      ],
      "execution_count": null,
      "outputs": []
    },
    {
      "metadata": {
        "trusted": true,
        "_uuid": "1a9a39135eeb5274d23c3074ecdec2fd777928c3",
        "colab": {
          "base_uri": "https://localhost:8080/"
        },
        "id": "V-TxZSvH3h0t",
        "outputId": "3d313cbe-8f47-4bef-ac0f-b8adff21f2e7"
      },
      "cell_type": "code",
      "source": [
        "len(grapes)"
      ],
      "execution_count": null,
      "outputs": [
        {
          "output_type": "execute_result",
          "data": {
            "text/plain": [
              "35"
            ]
          },
          "metadata": {},
          "execution_count": 25
        }
      ]
    },
    {
      "metadata": {
        "trusted": true,
        "_uuid": "fc8cb2a98447dd78d0fe95ef64446fc4034ecd27",
        "colab": {
          "base_uri": "https://localhost:8080/"
        },
        "id": "LQY_xnCQ3h0u",
        "outputId": "643c629d-52f2-40fe-bd01-c87e4d2ba8d1"
      },
      "cell_type": "code",
      "source": [
        "\n",
        "data_reduced.variety.value_counts()"
      ],
      "execution_count": null,
      "outputs": [
        {
          "output_type": "execute_result",
          "data": {
            "text/plain": [
              "pinot noir                       8925\n",
              "chardonnay                       8696\n",
              "cabernet sauvignon               8182\n",
              "syrah                            4807\n",
              "sauvignon blanc                  3871\n",
              "riesling                         3384\n",
              "merlot                           3131\n",
              "sangiovese                       2489\n",
              "zinfandel                        2403\n",
              "malbec                           1910\n",
              "pinot gris                       1644\n",
              "tempranillo                      1602\n",
              "nebbiolo                          966\n",
              "corvina, rondinella, molinara     868\n",
              "viognier                          851\n",
              "cabernet franc                    848\n",
              "grenache                          664\n",
              "gewurztraminer                    618\n",
              "petite sirah                      584\n",
              "gruner veltliner                  578\n",
              "port                              539\n",
              "barbera                           488\n",
              "carmenere                         488\n",
              "albarino                          404\n",
              "muscat                            402\n",
              "chenin blanc                      396\n",
              "pinot blanc                       393\n",
              "prosecco                          303\n",
              "nero d'avola                      266\n",
              "glera                             263\n",
              "verdejo                           252\n",
              "mourvedre                         225\n",
              "torrontes                         220\n",
              "gamay                             214\n",
              "aglianico                         213\n",
              "Name: variety, dtype: int64"
            ]
          },
          "metadata": {},
          "execution_count": 26
        }
      ]
    },
    {
      "metadata": {
        "_uuid": "4c0f3b3b59e4c0caed24dfe3e200895e260e941e",
        "id": "KjngRate3h0u"
      },
      "cell_type": "markdown",
      "source": [
        "<a id=\"ch2.4\"></a>\n",
        "### 2.4 Introduction of new features\n",
        "During blind tasting wine experts are allowed to look and expect the wine, but the wine label is not exposed to them. Therefore, we introduce the colour feature of the selected grapes."
      ]
    },
    {
      "metadata": {
        "trusted": true,
        "_uuid": "317305988825f19e53ec4f7563e32150f4cf0271",
        "id": "Gjw0Ec113h0u"
      },
      "cell_type": "code",
      "source": [
        "colour_map = {'aglianico': 'red', 'albarino': 'white', 'barbera': 'red', 'cabernet franc': 'red',\n",
        "              'cabernet sauvignon': 'red', 'carmenere': 'red', 'chardonnay': 'white', 'chenin blanc': 'white',\n",
        "              'corvina, rondinella, molinara': 'red', 'gamay': 'red', 'garganega': 'white', \n",
        "              'gewurztraminer': 'white', 'glera': 'white', 'grenache': 'red', 'gruner veltliner': 'white',\n",
        "              'malbec': 'red', 'merlot': 'red', 'mourvedre': 'red', 'muscat': 'white', 'nebbiolo': 'red',\n",
        "              \"nero d'avola\": 'red', 'petite sirah': 'red', 'pinot blanc': 'white', 'pinot gris': 'white',\n",
        "              'pinot noir': 'red', 'port': 'red', 'prosecco': 'white', 'riesling': 'white', 'sangiovese': 'red',\n",
        "              'sauvignon blanc': 'white', 'syrah': 'red', 'tempranillo': 'red', 'torrontes': 'white', \n",
        "              'verdejo': 'white', 'viognier': 'white', 'zinfandel': 'white'\n",
        "             }"
      ],
      "execution_count": null,
      "outputs": []
    },
    {
      "metadata": {
        "_uuid": "97e8394c1122499516ea7d3f39ef63b66eaf9d3c",
        "id": "l4qjlhj23h0u"
      },
      "cell_type": "markdown",
      "source": [
        "We create two more columns with names *red* and *white*, and their values can be 1 if the wine has that colour or 0 if it does not. In *sklearn* this corresponds to *one hot incoding*, we transform categorical data into vectors."
      ]
    },
    {
      "metadata": {
        "trusted": true,
        "_uuid": "0dace5df91717a81300f2b2ab081dbe4d6cd863a",
        "id": "Tt0K4VBG3h1I"
      },
      "cell_type": "code",
      "source": [
        "feature_input = data_reduced.copy()\n",
        "feature_input['colour'] = feature_input.apply(lambda row: colour_map[row['variety']], axis=1)\n",
        "colour_dummies = pd.get_dummies(feature_input['colour'])\n",
        "feature_input = feature_input.merge(colour_dummies, left_index=True, right_index=True)"
      ],
      "execution_count": null,
      "outputs": []
    },
    {
      "metadata": {
        "trusted": true,
        "_uuid": "7adca7542ee1ec477e0150279b552848a9fe7542",
        "colab": {
          "base_uri": "https://localhost:8080/",
          "height": 250
        },
        "id": "MH4Q1tZK3h1I",
        "outputId": "9a9eaffc-319a-4d85-fccc-3e2431800722"
      },
      "cell_type": "code",
      "source": [
        "feature_input.reset_index(inplace=True)\n",
        "feature_input.head()"
      ],
      "execution_count": null,
      "outputs": [
        {
          "output_type": "execute_result",
          "data": {
            "text/plain": [
              "   index country                                        description  price  \\\n",
              "0      0      us  this tremendous 100% varietal wine hails from ...  235.0   \n",
              "1      2      us  mac watson honors the memory of a wine once ma...   90.0   \n",
              "2      3      us  this spent 20 months in 30% new french oak, an...   65.0   \n",
              "3      8      us  this re-named vineyard was formerly bottled as...   65.0   \n",
              "4      9      us  the producer sources from two blocks of the vi...   60.0   \n",
              "\n",
              "     province            region_1             variety     winery colour  red  \\\n",
              "0  california         napa valley  cabernet sauvignon      heitz    red    1   \n",
              "1  california      knights valley     sauvignon blanc   macauley  white    0   \n",
              "2      oregon   willamette valley          pinot noir      ponzi    red    1   \n",
              "3      oregon  chehalem mountains          pinot noir  bergstrom    red    1   \n",
              "4  california        sonoma coast          pinot noir  blue farm    red    1   \n",
              "\n",
              "   white  \n",
              "0      0  \n",
              "1      1  \n",
              "2      0  \n",
              "3      0  \n",
              "4      0  "
            ],
            "text/html": [
              "\n",
              "  <div id=\"df-7529896c-63ec-4959-8fba-340e28fd494c\">\n",
              "    <div class=\"colab-df-container\">\n",
              "      <div>\n",
              "<style scoped>\n",
              "    .dataframe tbody tr th:only-of-type {\n",
              "        vertical-align: middle;\n",
              "    }\n",
              "\n",
              "    .dataframe tbody tr th {\n",
              "        vertical-align: top;\n",
              "    }\n",
              "\n",
              "    .dataframe thead th {\n",
              "        text-align: right;\n",
              "    }\n",
              "</style>\n",
              "<table border=\"1\" class=\"dataframe\">\n",
              "  <thead>\n",
              "    <tr style=\"text-align: right;\">\n",
              "      <th></th>\n",
              "      <th>index</th>\n",
              "      <th>country</th>\n",
              "      <th>description</th>\n",
              "      <th>price</th>\n",
              "      <th>province</th>\n",
              "      <th>region_1</th>\n",
              "      <th>variety</th>\n",
              "      <th>winery</th>\n",
              "      <th>colour</th>\n",
              "      <th>red</th>\n",
              "      <th>white</th>\n",
              "    </tr>\n",
              "  </thead>\n",
              "  <tbody>\n",
              "    <tr>\n",
              "      <th>0</th>\n",
              "      <td>0</td>\n",
              "      <td>us</td>\n",
              "      <td>this tremendous 100% varietal wine hails from ...</td>\n",
              "      <td>235.0</td>\n",
              "      <td>california</td>\n",
              "      <td>napa valley</td>\n",
              "      <td>cabernet sauvignon</td>\n",
              "      <td>heitz</td>\n",
              "      <td>red</td>\n",
              "      <td>1</td>\n",
              "      <td>0</td>\n",
              "    </tr>\n",
              "    <tr>\n",
              "      <th>1</th>\n",
              "      <td>2</td>\n",
              "      <td>us</td>\n",
              "      <td>mac watson honors the memory of a wine once ma...</td>\n",
              "      <td>90.0</td>\n",
              "      <td>california</td>\n",
              "      <td>knights valley</td>\n",
              "      <td>sauvignon blanc</td>\n",
              "      <td>macauley</td>\n",
              "      <td>white</td>\n",
              "      <td>0</td>\n",
              "      <td>1</td>\n",
              "    </tr>\n",
              "    <tr>\n",
              "      <th>2</th>\n",
              "      <td>3</td>\n",
              "      <td>us</td>\n",
              "      <td>this spent 20 months in 30% new french oak, an...</td>\n",
              "      <td>65.0</td>\n",
              "      <td>oregon</td>\n",
              "      <td>willamette valley</td>\n",
              "      <td>pinot noir</td>\n",
              "      <td>ponzi</td>\n",
              "      <td>red</td>\n",
              "      <td>1</td>\n",
              "      <td>0</td>\n",
              "    </tr>\n",
              "    <tr>\n",
              "      <th>3</th>\n",
              "      <td>8</td>\n",
              "      <td>us</td>\n",
              "      <td>this re-named vineyard was formerly bottled as...</td>\n",
              "      <td>65.0</td>\n",
              "      <td>oregon</td>\n",
              "      <td>chehalem mountains</td>\n",
              "      <td>pinot noir</td>\n",
              "      <td>bergstrom</td>\n",
              "      <td>red</td>\n",
              "      <td>1</td>\n",
              "      <td>0</td>\n",
              "    </tr>\n",
              "    <tr>\n",
              "      <th>4</th>\n",
              "      <td>9</td>\n",
              "      <td>us</td>\n",
              "      <td>the producer sources from two blocks of the vi...</td>\n",
              "      <td>60.0</td>\n",
              "      <td>california</td>\n",
              "      <td>sonoma coast</td>\n",
              "      <td>pinot noir</td>\n",
              "      <td>blue farm</td>\n",
              "      <td>red</td>\n",
              "      <td>1</td>\n",
              "      <td>0</td>\n",
              "    </tr>\n",
              "  </tbody>\n",
              "</table>\n",
              "</div>\n",
              "      <button class=\"colab-df-convert\" onclick=\"convertToInteractive('df-7529896c-63ec-4959-8fba-340e28fd494c')\"\n",
              "              title=\"Convert this dataframe to an interactive table.\"\n",
              "              style=\"display:none;\">\n",
              "        \n",
              "  <svg xmlns=\"http://www.w3.org/2000/svg\" height=\"24px\"viewBox=\"0 0 24 24\"\n",
              "       width=\"24px\">\n",
              "    <path d=\"M0 0h24v24H0V0z\" fill=\"none\"/>\n",
              "    <path d=\"M18.56 5.44l.94 2.06.94-2.06 2.06-.94-2.06-.94-.94-2.06-.94 2.06-2.06.94zm-11 1L8.5 8.5l.94-2.06 2.06-.94-2.06-.94L8.5 2.5l-.94 2.06-2.06.94zm10 10l.94 2.06.94-2.06 2.06-.94-2.06-.94-.94-2.06-.94 2.06-2.06.94z\"/><path d=\"M17.41 7.96l-1.37-1.37c-.4-.4-.92-.59-1.43-.59-.52 0-1.04.2-1.43.59L10.3 9.45l-7.72 7.72c-.78.78-.78 2.05 0 2.83L4 21.41c.39.39.9.59 1.41.59.51 0 1.02-.2 1.41-.59l7.78-7.78 2.81-2.81c.8-.78.8-2.07 0-2.86zM5.41 20L4 18.59l7.72-7.72 1.47 1.35L5.41 20z\"/>\n",
              "  </svg>\n",
              "      </button>\n",
              "      \n",
              "  <style>\n",
              "    .colab-df-container {\n",
              "      display:flex;\n",
              "      flex-wrap:wrap;\n",
              "      gap: 12px;\n",
              "    }\n",
              "\n",
              "    .colab-df-convert {\n",
              "      background-color: #E8F0FE;\n",
              "      border: none;\n",
              "      border-radius: 50%;\n",
              "      cursor: pointer;\n",
              "      display: none;\n",
              "      fill: #1967D2;\n",
              "      height: 32px;\n",
              "      padding: 0 0 0 0;\n",
              "      width: 32px;\n",
              "    }\n",
              "\n",
              "    .colab-df-convert:hover {\n",
              "      background-color: #E2EBFA;\n",
              "      box-shadow: 0px 1px 2px rgba(60, 64, 67, 0.3), 0px 1px 3px 1px rgba(60, 64, 67, 0.15);\n",
              "      fill: #174EA6;\n",
              "    }\n",
              "\n",
              "    [theme=dark] .colab-df-convert {\n",
              "      background-color: #3B4455;\n",
              "      fill: #D2E3FC;\n",
              "    }\n",
              "\n",
              "    [theme=dark] .colab-df-convert:hover {\n",
              "      background-color: #434B5C;\n",
              "      box-shadow: 0px 1px 3px 1px rgba(0, 0, 0, 0.15);\n",
              "      filter: drop-shadow(0px 1px 2px rgba(0, 0, 0, 0.3));\n",
              "      fill: #FFFFFF;\n",
              "    }\n",
              "  </style>\n",
              "\n",
              "      <script>\n",
              "        const buttonEl =\n",
              "          document.querySelector('#df-7529896c-63ec-4959-8fba-340e28fd494c button.colab-df-convert');\n",
              "        buttonEl.style.display =\n",
              "          google.colab.kernel.accessAllowed ? 'block' : 'none';\n",
              "\n",
              "        async function convertToInteractive(key) {\n",
              "          const element = document.querySelector('#df-7529896c-63ec-4959-8fba-340e28fd494c');\n",
              "          const dataTable =\n",
              "            await google.colab.kernel.invokeFunction('convertToInteractive',\n",
              "                                                     [key], {});\n",
              "          if (!dataTable) return;\n",
              "\n",
              "          const docLinkHtml = 'Like what you see? Visit the ' +\n",
              "            '<a target=\"_blank\" href=https://colab.research.google.com/notebooks/data_table.ipynb>data table notebook</a>'\n",
              "            + ' to learn more about interactive tables.';\n",
              "          element.innerHTML = '';\n",
              "          dataTable['output_type'] = 'display_data';\n",
              "          await google.colab.output.renderOutput(dataTable, element);\n",
              "          const docLink = document.createElement('div');\n",
              "          docLink.innerHTML = docLinkHtml;\n",
              "          element.appendChild(docLink);\n",
              "        }\n",
              "      </script>\n",
              "    </div>\n",
              "  </div>\n",
              "  "
            ]
          },
          "metadata": {},
          "execution_count": 29
        }
      ]
    },
    {
      "metadata": {
        "_uuid": "8712f7e4ece4130390b290bafa1784d10ade7af0",
        "id": "O3TmcqkY3h1J"
      },
      "cell_type": "markdown",
      "source": [
        "<a id=\"ch3\"></a>\n",
        "## 3. Building the classification model\n",
        "Now that we are ready with the data preprocessing wwe start to build up the model for classification. We start with steps to build a text vectorizer, define a XGBoost classifier and put everything into a pipeline which deals with selecting text based and numerical based inputs separately."
      ]
    },
    {
      "metadata": {
        "_uuid": "94db07ab3a4e5167abc4a054f940c30b7faac72c",
        "id": "Cta6XcZl3h1J"
      },
      "cell_type": "markdown",
      "source": [
        "<a id=\"ch3.1\"></a>\n",
        "### 3.1 Stop words\n",
        "These are words that we do not want to come accross in the text and do not want to analyse them. That is why we remove any occurance of the country, province and winery from the text. "
      ]
    },
    {
      "metadata": {
        "trusted": true,
        "_uuid": "8e7cc73c2991ab749ab138b8c4154530d5dedfa0",
        "id": "Wt0JHg1K3h1J"
      },
      "cell_type": "code",
      "source": [
        "# stop words for countries\n",
        "stop_country = list(np.unique(feature_input.country.dropna().str.lower().tolist()))\n",
        "\n",
        "#stop words for province\n",
        "stop_province = list(np.unique(feature_input.province.dropna().str.lower().tolist()))\n",
        "\n",
        "#stop words for winery\n",
        "stop_winery = list(np.unique(feature_input.winery.dropna().str.lower().tolist()))\n"
      ],
      "execution_count": null,
      "outputs": []
    },
    {
      "metadata": {
        "_uuid": "b207d3f6bfcf4184df262781aa687d680530d6e5",
        "id": "jZmPICZG3h1J"
      },
      "cell_type": "markdown",
      "source": [
        "We load in the stop words of *nltk* too. That has a good collection of filling words that are usually not descriptive for a text. We additionally extend that with our self defined list of punctuations and a few words. "
      ]
    },
    {
      "metadata": {
        "trusted": true,
        "_uuid": "f4595a83a9eea333dc3c41ef673885db0dcebf2e",
        "scrolled": false,
        "id": "gRubSmQp3h1K"
      },
      "cell_type": "code",
      "source": [
        "# defining stopwords: using the one that comes with nltk + appending it with words seen from the above evaluation\n",
        "stop_words = stopwords.words('english')\n",
        "stop_append = ['.', ',', '`', '\"', \"'\", '!', ';', 'wine', 'fruit', '%', 'flavour', 'aromas', 'palate']\n",
        "stop_words1 = stop_words + stop_append + grapes + stop_country + stop_province + stop_winery"
      ],
      "execution_count": null,
      "outputs": []
    },
    {
      "metadata": {
        "_uuid": "914ffa9a7d8c5319f3643dcc8fe2eb7a5bd5883c",
        "id": "1QbPQ9DD3h1K"
      },
      "cell_type": "markdown",
      "source": [
        "<a id=\"ch3.2\"></a>\n",
        "### 3.2 POS tagging and Lemma tokenization\n",
        "In the description text a word might appear in different forms while actually representing the same word, like *good* and *best*. To reduce noise we try to find the basic form (*lemma*) of each word in the text. We will rely on the *nltk* package to achieve this, but first we have to type tag each word, wether they are nouns, verbs, adjectives or adverbs. For that we built up some helper functions IN `helper.py`."
      ]
    },
    {
      "metadata": {
        "_uuid": "6fd7771ae9cbd0b9f08631ac553bad923aef7285",
        "id": "UYmkbT543h1K"
      },
      "cell_type": "markdown",
      "source": [
        "We created a class for lemmatization, *LemmaTokenizer*. Besides finding the lemmas it does some text filtering and at the end only selects nouns and adjectives, since these are the most descriptive words in the life of a wine. "
      ]
    },
    {
      "metadata": {
        "_uuid": "14fb0504a65755f34c934c46e43e7b6d3b40dffa",
        "id": "c9saZMYu3h1K"
      },
      "cell_type": "markdown",
      "source": [
        "<a id=\"ch3.3\"></a>\n",
        "### 3.3 Text vectorizer\n",
        "To transform the text based description column into a number based object, we use term frequency-inverse document frequency (tf-idf) vectorization. First it counts the occurance of a word in one sample and than down-weighs it with the occurance of the same word over all the samples. It repeats this process for each word and outputs a vector of numbers, where each number represents a word. The actual vectorizer performes some firther normalization too.\n",
        "We will analyse the text word by word (1-grams), meaning selecting the first word to represent the first element of the vector. Then each consequent element would be constructed by shifting the range by one. \n",
        "The vectorizer accepts a tokenizer as an input, that is why we have defined one previously.\n"
      ]
    },
    {
      "metadata": {
        "trusted": true,
        "_uuid": "6403691da0fb2b5f7776de60bbc3b018ce583002",
        "id": "XzLbtwNf3h1L"
      },
      "cell_type": "code",
      "source": [
        "vec_tdidf = TfidfVectorizer(ngram_range=(1,1), analyzer='word', #stop_words=stop_words1, \n",
        "                                               norm='l2', tokenizer=LemmaTokenizer())"
      ],
      "execution_count": null,
      "outputs": []
    },
    {
      "metadata": {
        "_uuid": "d0cdde3cd9f52afb559bf858e2eaad50ef72cf4a",
        "id": "_ZWKw6Y63h1L"
      },
      "cell_type": "markdown",
      "source": [
        "<a id=\"ch3.4\"></a>\n",
        "### 3.4 XGBoost classifier\n",
        "XGBoost is a version of gradient boosted decision tree classifier. In boosting, the trees are built sequentially such that each subsequent tree aims to reduce the errors of the previous tree. These subsequent trees are called base or weak learners. Each of these weak learners contributes some vital information for prediction, enabling the boosting technique to produce a strong learner by effectively combining these weak learners. The power of XGBoost lies in its scalability, which drives fast learning through parallel and distributed computing and offers efficient memory usage.  \n",
        "\n",
        "We will predifine certain input arguments that control the performance of the classifier and use one argument to otpimize.  *subsample* controls the ratio of the randomly selected training samples before growing the tree. It ranges between 0 and 1. Higher values tend to cause overfitting. *colsample_bytree* denotes the fraction of columns to be randomly sampled for each tree. *n_estimators* controls the number of trees to be constructed during the classification process.  We will optimize that parameter."
      ]
    },
    {
      "metadata": {
        "trusted": true,
        "_uuid": "379ec8482a039658a98548acb218a0dd0005e9b6",
        "id": "1n3s9js03h1L"
      },
      "cell_type": "code",
      "source": [
        "clf = XGBClassifier(random_state=42, seed=2, colsample_bytree=0.6, subsample=0.7)"
      ],
      "execution_count": null,
      "outputs": []
    },
    {
      "metadata": {
        "_uuid": "2fa86692b4c02c98af3c0775f7c13e37c9f4883e",
        "id": "P_FTZDSl3h1L"
      },
      "cell_type": "markdown",
      "source": [
        "<a id=\"ch3.5\"></a>\n",
        "### 3.5 Pipeline with helper functions\n",
        "Since we have combined input features, text and numeric based features, we cannot treat them in the same way. We created helper classes in `utils.py` that will return either the text column (*TextSelector*) or the number based column (*NumberSelector*). They will be the part of the pipeline. we can  initialize them with the column name of the input data. They need to have a *fit* and *transform* method. In our case the *fit* returns the class itself, while the *transform* method returns the column of the input data with the given column name.  "
      ]
    },
    {
      "metadata": {
        "_uuid": "cc85f8ca3d9daa7bef6849cc8ad07ada6c9313dc",
        "id": "ZGcKppb13h1M"
      },
      "cell_type": "markdown",
      "source": [
        "I have also defined a function that prints out the accuracy, the classification report (including precision, recall and f1 scores) and a confusion matrix expressed in percentages of the number of each variety in `helper.py`."
      ]
    },
    {
      "metadata": {
        "_uuid": "39ac4d4bc9bc24ba603776201889a19e2faa28fc",
        "id": "xZJzFXZE3h1M"
      },
      "cell_type": "markdown",
      "source": [
        "Now it is time to build up the pipeline. We start by creating a pipeline object for each input feature. \n",
        "\n",
        "Let us start with a text pipeline, that selects the text column from the input and applies the tf-idf vectorizer on it to transform it into a matrix of scores. "
      ]
    },
    {
      "metadata": {
        "trusted": true,
        "_uuid": "d08bdac015695389a03e2a76f46393ab07dca99a",
        "id": "lIoQzexC3h1M"
      },
      "cell_type": "code",
      "source": [
        "text = Pipeline([\n",
        "                ('selector', TextSelector(key='description')),\n",
        "                ('vectorizer', vec_tdidf)\n",
        "                ])"
      ],
      "execution_count": null,
      "outputs": []
    },
    {
      "metadata": {
        "_uuid": "4ad2189f7013ae8544597459057c79c2b355f99b",
        "id": "ht8f0-jh3h1N"
      },
      "cell_type": "markdown",
      "source": [
        "Next we create pipeline objects to select the colour columns of the input data."
      ]
    },
    {
      "metadata": {
        "trusted": true,
        "_uuid": "e947faa78d0d4b5a67b022070fdc2bc632a62277",
        "id": "GGtTn-QB3h1N"
      },
      "cell_type": "code",
      "source": [
        "#pipelines of colour features\n",
        "red = Pipeline([\n",
        "                ('selector', NumberSelector(key='red')),\n",
        "                ])\n",
        "\n",
        "white = Pipeline([\n",
        "                ('selector', NumberSelector(key='white')),\n",
        "                ])"
      ],
      "execution_count": null,
      "outputs": []
    },
    {
      "metadata": {
        "_uuid": "fcf9dea3f3dff9475d9aac6db4e6a823ca4ebec5",
        "id": "S8uUzHl53h1N"
      },
      "cell_type": "markdown",
      "source": [
        "Here comes the tricky part. To combine all feature, we use the *FeatureUnion* object. That makes sure there will not be any errors from combining text and number based inputs."
      ]
    },
    {
      "metadata": {
        "trusted": true,
        "_uuid": "0b5875cdedef65c1dc2ffb706fd9b6b8ba0a45de",
        "id": "l31ei8vE3h1N"
      },
      "cell_type": "code",
      "source": [
        "feats = FeatureUnion([('description', text),\n",
        "                      ('red', red),\n",
        "                      ('white', white)\n",
        "                      ])"
      ],
      "execution_count": null,
      "outputs": []
    },
    {
      "metadata": {
        "trusted": true,
        "_uuid": "db18c519dd9ec499c0124e52f3d6ca30164b5936",
        "id": "p-uM_zSp3h1N"
      },
      "cell_type": "markdown",
      "source": [
        "Finally, we are ready to combine the input features with the classifier into one single pipeline .  "
      ]
    },
    {
      "metadata": {
        "trusted": true,
        "_uuid": "d52e50bf3a46489318c3ef8791bab938f9c6c829",
        "id": "-awaU_C93h1O"
      },
      "cell_type": "code",
      "source": [
        "pipe = Pipeline([('feats', feats),\n",
        "                 ('clf',clf)\n",
        "                 ])"
      ],
      "execution_count": null,
      "outputs": []
    },
    {
      "metadata": {
        "_uuid": "6639d97b027395d97e163f64f152f4acbc1d5755",
        "id": "odMVE_kr3h1O"
      },
      "cell_type": "markdown",
      "source": [
        "<a id=\"ch4\"></a>\n",
        "## 4. Hyperparameter tuning\n",
        "As I have mentioned earlier we will the do a hyperparameter tuning on the *n_estimators*. In normal cases you would do it on more parameters, depending on how big is your data. "
      ]
    },
    {
      "metadata": {
        "trusted": true,
        "_uuid": "3311ae9b42f33713e2cf447465456850362a3f4f",
        "id": "eGPCD9IB3h1O",
        "colab": {
          "base_uri": "https://localhost:8080/"
        },
        "outputId": "dc58ef10-e2eb-4308-9a44-a03aebc71265"
      },
      "cell_type": "code",
      "source": [
        "pipe.named_steps['clf'].get_params()"
      ],
      "execution_count": null,
      "outputs": [
        {
          "output_type": "execute_result",
          "data": {
            "text/plain": [
              "{'objective': 'binary:logistic',\n",
              " 'use_label_encoder': None,\n",
              " 'base_score': None,\n",
              " 'booster': None,\n",
              " 'callbacks': None,\n",
              " 'colsample_bylevel': None,\n",
              " 'colsample_bynode': None,\n",
              " 'colsample_bytree': 0.6,\n",
              " 'early_stopping_rounds': None,\n",
              " 'enable_categorical': False,\n",
              " 'eval_metric': None,\n",
              " 'feature_types': None,\n",
              " 'gamma': None,\n",
              " 'gpu_id': None,\n",
              " 'grow_policy': None,\n",
              " 'importance_type': None,\n",
              " 'interaction_constraints': None,\n",
              " 'learning_rate': None,\n",
              " 'max_bin': None,\n",
              " 'max_cat_threshold': None,\n",
              " 'max_cat_to_onehot': None,\n",
              " 'max_delta_step': None,\n",
              " 'max_depth': None,\n",
              " 'max_leaves': None,\n",
              " 'min_child_weight': None,\n",
              " 'missing': nan,\n",
              " 'monotone_constraints': None,\n",
              " 'n_estimators': 100,\n",
              " 'n_jobs': None,\n",
              " 'num_parallel_tree': None,\n",
              " 'predictor': None,\n",
              " 'random_state': 42,\n",
              " 'reg_alpha': None,\n",
              " 'reg_lambda': None,\n",
              " 'sampling_method': None,\n",
              " 'scale_pos_weight': None,\n",
              " 'subsample': 0.7,\n",
              " 'tree_method': None,\n",
              " 'validate_parameters': None,\n",
              " 'verbosity': None,\n",
              " 'seed': 2}"
            ]
          },
          "metadata": {},
          "execution_count": 41
        }
      ]
    },
    {
      "metadata": {
        "_uuid": "154537cb196ff36572986d3c47c24f990f0a6656",
        "id": "BVWH6OCF3h1O"
      },
      "cell_type": "markdown",
      "source": [
        "To save some space we do just the latter, with *GridSearchCV*. It works on different folds and splits each fold into a test and train range. We will see how to retrieve information from those sets. Because of this, we first split our input data into a train and test set, so that the test will actually serve as a validation set. A totally unseen data during the process. It is a good habit to have a validation set, to check the deterioration of the performance of the model. If it is big, it means you are rather overfitting your model.\n",
        "\n",
        "Now let us create the train and test sets:"
      ]
    },
    {
      "metadata": {
        "trusted": true,
        "_uuid": "f7aa36ec011aeee09eecfb4e218ad74e95aeb6e8",
        "id": "Db_IrSH33h1O"
      },
      "cell_type": "code",
      "source": [
        "# split the data into train and test\n",
        "combined_features = ['description', 'white', 'red']\n",
        "target = 'variety'\n",
        "\n",
        "X_train, X_test, y_train, y_test = train_test_split(feature_input[combined_features], feature_input[target], \n",
        "                                                    test_size=0.20, random_state=42, stratify=feature_input[target])\n"
      ],
      "execution_count": null,
      "outputs": []
    },
    {
      "metadata": {
        "trusted": true,
        "_uuid": "93462f1d535a563f07c6d147374ef40199ee5b2b",
        "id": "yRGJQawc3h1P"
      },
      "cell_type": "markdown",
      "source": [
        "To do the hyperparameter optimization, we have to define the parameter grid too. In our case this parameter is the classifiers *n_estimators*, subsample and *colsample_bytree* parameter. "
      ]
    },
    {
      "metadata": {
        "trusted": true,
        "_uuid": "77909d4c44e9db6eaf89a1a61fcc3a64a3e537d3",
        "id": "zAaXUoH-3h1P"
      },
      "cell_type": "code",
      "source": [
        "# definition of parameter grid to scan through\n",
        "param_grid = {\n",
        "    'clf__n_estimators': [50,100,300],\n",
        "    'clf__colsample_bytree': [0.6,0.8,1],\n",
        "    'clf__subsample': [0.5, 0.6, 0.7, 0.8, 0.9, 1]\n",
        "}"
      ],
      "execution_count": null,
      "outputs": []
    },
    {
      "metadata": {
        "_uuid": "aedf40b207dac5837832659a9cd4ba79fee24572",
        "id": "klpYQDXT3h1P"
      },
      "cell_type": "markdown",
      "source": [
        "Finally we define the grid search object. Our *pipe* variable will serve as the estimator and it needs the parameter grid too. We define 3 cross validation folds (in principle the more the better, but it takes more time too), and to exploit parallel computing we use 3 cores with the *n_jobs* argument. Setting the *verbose* argument to 0 prevents the algorithm to print our messages to the console. After the grid search object construction we can use the *fit* method to train our model:"
      ]
    },
    {
      "metadata": {
        "trusted": true,
        "_uuid": "5a79fc82f5aa6418970759c21b07c3ec1ca74d12",
        "id": "D3HF3lEr3h1Q"
      },
      "cell_type": "code",
      "source": [
        "# grid search cross validation instantiation\n",
        "grid_search = GridSearchCV(estimator = pipe, param_grid = param_grid, \n",
        "                          cv = 3, n_jobs = 1, verbose = 0, return_train_score=True)"
      ],
      "execution_count": null,
      "outputs": []
    },
    {
      "cell_type": "code",
      "source": [
        "le = LabelEncoder()\n",
        "y_train = le.fit_transform(y_train)"
      ],
      "metadata": {
        "id": "53JeQ0Yzfj3R"
      },
      "execution_count": null,
      "outputs": []
    },
    {
      "metadata": {
        "trusted": true,
        "_uuid": "2bd6a243508c1a2fe3b00b05482b7d2bca61377c",
        "scrolled": true,
        "id": "MSwMBYZ_3h1Q"
      },
      "cell_type": "code",
      "source": [
        "#hyperparameter fitting\n",
        "\n",
        "grid_search.fit(X_train, y_train)"
      ],
      "execution_count": null,
      "outputs": []
    },
    {
      "metadata": {
        "trusted": true,
        "_uuid": "c33019516e4e3558472054b2686003e847dcc4b0",
        "id": "-HoTicUa3h1Q"
      },
      "cell_type": "markdown",
      "source": [
        "After finishing with the grid search we can look at many features of the results. One interesting point to look at is the accuracy of the model on the cross validations train and test sets. Usually the train accuracy is larger than the test accuracy. If the degradation is large, it means the model is overfitting, picking up target characteristic features in the train set. To look at these, we call the *mean_train_score* and the *mean_test_score*."
      ]
    },
    {
      "metadata": {
        "trusted": true,
        "_uuid": "9bf8956b9de8bf4fb8a4d5f070c6882dbf4ccd15",
        "id": "qxC5HDui3h1R"
      },
      "cell_type": "code",
      "source": [
        "grid_search.cv_results_['mean_train_score']"
      ],
      "execution_count": null,
      "outputs": []
    },
    {
      "metadata": {
        "trusted": true,
        "_uuid": "72dad7c878261743fec234a3381b60cc57053000",
        "id": "zXSN_OyG3h1R"
      },
      "cell_type": "code",
      "source": [
        "grid_search.cv_results_['mean_test_score']"
      ],
      "execution_count": null,
      "outputs": []
    },
    {
      "metadata": {
        "_uuid": "e0b85da7988d34c7a48478bf0ddafa2314bbae94",
        "id": "kL5HmoSI3h1R"
      },
      "cell_type": "markdown",
      "source": [
        "In each case we have 3 mean scores, each corresponding to the relevant *n_estimators* value. We can also see that by increasing the *n_estimators* the accuracy increases and the difference between train and set accuracies increase. One could check how far more can be the accuracy increased by increasing this hyperparameter, but for now we stick with the best result:"
      ]
    },
    {
      "metadata": {
        "trusted": true,
        "_uuid": "a2ea232f6dfc587bd5ca75a5248dd791a34dc743",
        "id": "vM_Shnk03h1R"
      },
      "cell_type": "code",
      "source": [
        "grid_search.best_params_"
      ],
      "execution_count": null,
      "outputs": []
    },
    {
      "metadata": {
        "_uuid": "78ea1cca1c23c75efc9dc9447e6c96e3e3a5e0f6",
        "id": "r5fqgnXq3h1R"
      },
      "cell_type": "markdown",
      "source": [
        "Now we create a new classifier that has the best parameters from this grid search and use it on the validation set to really make sure that we are not over or underfitting. "
      ]
    },
    {
      "metadata": {
        "trusted": true,
        "_uuid": "89b360444c8054ba9f5d75deb52812191b6a0f48",
        "id": "zQ5dhGRE3h1S"
      },
      "cell_type": "code",
      "source": [
        "clf_test = grid_search.best_estimator_"
      ],
      "execution_count": null,
      "outputs": []
    },
    {
      "metadata": {
        "trusted": true,
        "_uuid": "b76307349853f09e99cc1761ff2500c4400e0176",
        "id": "MM9SYp-K3h1S"
      },
      "cell_type": "code",
      "source": [
        "# test stats\n",
        "preds = clf_test.predict(X_test)"
      ],
      "execution_count": null,
      "outputs": []
    },
    {
      "metadata": {
        "trusted": true,
        "_uuid": "2d8e9ef6a08b4d778da417b669262065041a6a7b",
        "scrolled": true,
        "id": "rrolYuSN3h1S"
      },
      "cell_type": "code",
      "source": [
        "print_stats(y_test, le.inverse_transform(preds), clf_test.classes_)"
      ],
      "execution_count": null,
      "outputs": []
    },
    {
      "metadata": {
        "_uuid": "9534a92fa9baf62bb0588b4a35c97eb46866db9a",
        "id": "F8NiNw-b3h1S"
      },
      "cell_type": "markdown",
      "source": [
        "We still get an accuracy very close to the mean test accuracy on the validation set. 68% with a very simple classifier is not a bad deal. The preciosion for the target values that has not many samples are poor, but certainly there is hope for improvement. One could do a more thorough hyperparameter tuning or change to neural network classifiers. "
      ]
    },
    {
      "metadata": {
        "_uuid": "737a2e75aa4a546b4e9829e04457e565f3a85989",
        "id": "gjav0nmI3h1S"
      },
      "cell_type": "markdown",
      "source": [
        "<a id=\"ch5\"></a>\n",
        "## 5. Notes on imbalanced target features\n",
        "It is very easy to come accross a dataset with imbalanced targets (meaning class 1 is far more represented than class 2). Some of the classifiers like Random Forest, by their design will classify a new item into a class that has more samples in the train set. This behaviour decreases the precision of the classifier.  \n",
        "\n",
        "Depending on the exact issue there may be different solutions to this problem. It can happen that one is not even interested in a good precision at all. In some cases there can be lot of samples of one class and some in the other class, but in other cases the whole database can be very small. One can choose wether to decrease the number of samples of the large class (undersample) or try to increase the number of the small class (oversample). \n",
        "\n",
        "The *imblearn* package provides different methods to perform both cases. The *RandomUnderSampler* reduces the number of the samples in each class to the number of samples in the smallest class. It is done by randomly selecting samples. The *RandomOverSampler* does the some thing but increases the sample of the class where there are only a few samples. These are very simple approaches to balance the sample numbers in classes and they do not really introduce new features.\n",
        "\n",
        "Obviously the best would be to find new samples, but it is not always easy. One could create new samples from existing ones by synthetically contructing them. Such technique is the Synthetic Minority Oversampling Technique (SMOTE). It first selects an element in the minority class (the class that needs new samples) and  searches for its n-nearest neighbours. Then these neighbours are connected with the element with a line and random dots are generated on those lines. These will be the synthetically constructed new elements of the class.\n",
        "\n",
        "Let us use the SMOTE technique and the optimized parameters we learned previously and classify the wines again."
      ]
    },
    {
      "metadata": {
        "trusted": true,
        "_uuid": "0aa05d52ad13c7ec25ed3a7bb408a61adbe2bc5f",
        "id": "G0uXhe_g3h1T"
      },
      "cell_type": "code",
      "source": [
        "from imblearn.under_sampling import RandomUnderSampler\n",
        "from imblearn.over_sampling import RandomOverSampler\n",
        "from collections import Counter\n",
        "from imblearn.over_sampling import SMOTE  \n",
        "from imblearn.pipeline import Pipeline as imbPipeline\n",
        "from sklearn.preprocessing import LabelEncoder"
      ],
      "execution_count": null,
      "outputs": []
    },
    {
      "metadata": {
        "_uuid": "b24162d686b2b64d791f1da917f0bc6322da550f",
        "id": "BP6VCiXT3h1T"
      },
      "cell_type": "markdown",
      "source": [
        "The *imblearn* package is not compatible with the *sklearn* Pipelines, therefore we have to use their ones. We define a *SMOTE* object that is an input for the pipeline. It will oversample the prepared data."
      ]
    },
    {
      "metadata": {
        "trusted": true,
        "_uuid": "81a8c1aec7c610eb6fa7d6fc5e9d67b54fcf6146",
        "id": "uIGljplh3h1T"
      },
      "cell_type": "code",
      "source": [
        "clf = XGBClassifier(random_state=42, seed=2, colsample_bytree=0.6, subsample=0.7, \n",
        "                    n_estimators=300)\n",
        "sm = SMOTE(random_state=42, sampling_strategy='auto')\n",
        "pipe = imbPipeline([('feats', feats),\n",
        "                    ('smote', sm),\n",
        "                    ('clf',clf)\n",
        "                 ])"
      ],
      "execution_count": null,
      "outputs": []
    },
    {
      "metadata": {
        "_uuid": "b697f40952bdad79b5dfb5049859fb8e59509427",
        "id": "tXJpQY6c3h1T"
      },
      "cell_type": "markdown",
      "source": [
        "Now we are ready to fit the pipeline to the train set and then test it and print the statistics."
      ]
    },
    {
      "metadata": {
        "trusted": true,
        "scrolled": false,
        "_uuid": "97362c513d83191023737ebfa572ac4fb5263666",
        "id": "Qw4p5DJS3h1U"
      },
      "cell_type": "code",
      "source": [
        "\n",
        "pipe.fit(X_train, y_train)"
      ],
      "execution_count": null,
      "outputs": []
    },
    {
      "metadata": {
        "trusted": true,
        "_uuid": "0d9cd8961bd243004d5409485f92620af11784a7",
        "id": "sIZQDauV3h1V"
      },
      "cell_type": "code",
      "source": [
        "preds = pipe.predict(X_test)\n",
        "print_stats(y_test, le.inverse_transform(preds), pipe.classes_)"
      ],
      "execution_count": null,
      "outputs": []
    },
    {
      "metadata": {
        "_uuid": "8958ad5bf86e1f5b9eac0e98d0715774f6d66915",
        "id": "pFPszowI3h1V"
      },
      "cell_type": "markdown",
      "source": [
        "From the result we can see that the accuracy has decreased a little bit, to 61%, while the precision has  improved. This is expected in a way. We have increased the samples for each class, therefore giving a chance for better precision, while the created new samples are synthetic, therefore probably not necessarily in line with real data, resulting in the decrease of the accuracy."
      ]
    },
    {
      "cell_type": "markdown",
      "source": [
        "And finally we will save trained model to use for API integration using pickle library"
      ],
      "metadata": {
        "id": "hLh_NF1ZgUEX"
      }
    },
    {
      "cell_type": "code",
      "source": [
        "\n",
        "import pickle\n",
        "with open('model.pkl', 'wb') as f:\n",
        "    pickle.dump(clf, f)\n",
        "f.close()"
      ],
      "metadata": {
        "id": "Q_Cpqj7Zum5t"
      },
      "execution_count": null,
      "outputs": []
    },
    {
      "metadata": {
        "trusted": true,
        "_uuid": "a3c488d5251d24aaf9bd79c08a695985b193498c",
        "id": "HmMC4Jct3h1V"
      },
      "cell_type": "markdown",
      "source": [
        "<a id=\"ch6\"></a>\n",
        "## 6. Conclusion\n",
        "We have presented a simple model that is capable of classifying grape varieties based on wine descriptions and their colour. During the process we have cleaned the input data, created objects to turn text documents into numeric matrices while counting the frequency of the words in the text. Then we optimized a hyperparameter in the classifier to achieve better performance. At the end, we highlighted the importance of having balanced number of input classes. \n",
        "\n"
      ]
    }
  ]
}